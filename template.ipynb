{
 "cells": [
  {
   "cell_type": "markdown",
   "metadata": {},
   "source": [
    "# Survey data report\n",
    "\n",
    "Looking through the [2021 Kaggle Machine Learning & Data Science Survey](https://www.kaggle.com/c/kaggle-survey-2021https://www.kaggle.com/c/kaggle-survey-2021), let's build a report that's focussed on individuals that use Python."
   ]
  },
  {
   "cell_type": "markdown",
   "metadata": {},
   "source": [
    "For those who use Python (`Q7_Part_1`) in segmenting by:\n",
    "\n",
    "- Current role (`Q5`)\n",
    "- Industry (`Q20`)\n",
    "- Size of data science team at work (`Q22`)\n",
    "- Primary tool (`41`)\n",
    "\n",
    "For the following questions:\n",
    "\n",
    "- What Python IDEs (`Q9`), \n",
    "- What hosted Python notebook products (`Q10`)\n",
    "- What visualization libraries (`Q14`)\n",
    "- What BI tools do they use (`Q34-A`)\n",
    "- What BI tools do they want to look at (`Q34-B`)\n",
    "- Where do you share data analyses (`Q39`)\n",
    "- What part of the pipeline? (`Q24`)"
   ]
  },
  {
   "cell_type": "code",
   "execution_count": 1,
   "metadata": {},
   "outputs": [],
   "source": [
    "import altair as alt\n",
    "import datapane as dp\n",
    "import pandas as pd\n",
    "import random\n",
    "\n",
    "alt.data_transformers.disable_max_rows()\n",
    "pd.options.mode.chained_assignment = None"
   ]
  },
  {
   "cell_type": "markdown",
   "metadata": {
    "tags": []
   },
   "source": [
    "## Block building functions"
   ]
  },
  {
   "cell_type": "code",
   "execution_count": 2,
   "metadata": {},
   "outputs": [],
   "source": [
    "def build_segment_distribution(segments, segment_name):\n",
    "\n",
    "    counts = pd.DataFrame(segments.value_counts()).rename_axis().reset_index()\n",
    "    counts.columns = [segment_name, \"counts\"]\n",
    "    counts\n",
    "\n",
    "    fig = (\n",
    "        alt.Chart(counts)\n",
    "        .mark_bar()\n",
    "        .encode(\n",
    "            x=alt.X(counts.columns[0], sort=\"-y\", axis=alt.Axis(labelAngle=-45)),\n",
    "            y=\"counts\",\n",
    "            color=alt.Color(\n",
    "                segment_name, scale=alt.Scale(scheme=\"rainbow\"), legend=None\n",
    "            ),\n",
    "        )\n",
    "    )\n",
    "\n",
    "    return dp.Plot(fig)"
   ]
  },
  {
   "cell_type": "code",
   "execution_count": 3,
   "metadata": {},
   "outputs": [],
   "source": [
    "def build_question_by_segment(data, segments, segment_name):\n",
    "\n",
    "    segment_data = data.copy()\n",
    "    segment_data[segment_name] = segments\n",
    "\n",
    "    df = segment_data.melt(segment_name).dropna().drop(labels=[\"variable\"], axis=1)\n",
    "\n",
    "    blocks = []\n",
    "\n",
    "    df_order = df.value.value_counts().index.tolist()\n",
    "\n",
    "    fig_all = (\n",
    "        alt.Chart(df)\n",
    "        .mark_bar()\n",
    "        .encode(\n",
    "            x=alt.X(\n",
    "                \"value:O\", sort=df_order, axis=alt.Axis(labelAngle=-45), title=None\n",
    "            ),\n",
    "            y=alt.Y(\n",
    "                f\"count({segment_name})\",\n",
    "                axis=alt.Axis(title=\"Count\"),\n",
    "            ),\n",
    "            color=alt.Color(\n",
    "                segment_name, scale=alt.Scale(scheme=\"rainbow\"), legend=None\n",
    "            ),\n",
    "            tooltip=[\"value:O\", f\"{segment_name}\", f\"count({segment_name})\"],\n",
    "        )\n",
    "    )\n",
    "\n",
    "    blocks.append(dp.Plot(fig_all, label=f\"All {segment_name}\"))\n",
    "\n",
    "    for segment in df[segment_name].unique():\n",
    "\n",
    "        fig = (\n",
    "            alt.Chart(df[df[segment_name] == segment])\n",
    "            .mark_bar()\n",
    "            .encode(\n",
    "                x=alt.X(\n",
    "                    \"value:O\", sort=df_order, axis=alt.Axis(labelAngle=-45), title=None\n",
    "                ),\n",
    "                y=alt.Y(\n",
    "                    f\"count({segment_name})\",\n",
    "                    axis=alt.Axis(title=\"Count\"),\n",
    "                ),\n",
    "                color=alt.Color(\n",
    "                    segment_name, scale=alt.Scale(scheme=\"rainbow\"), legend=None\n",
    "                ),\n",
    "            )\n",
    "        )\n",
    "\n",
    "        blocks.append(dp.Plot(fig, label=segment))\n",
    "\n",
    "    select_df = dp.Select(\n",
    "        blocks=blocks,\n",
    "        type=dp.SelectType.DROPDOWN,\n",
    "    )\n",
    "    return select_df"
   ]
  },
  {
   "cell_type": "code",
   "execution_count": 4,
   "metadata": {},
   "outputs": [],
   "source": [
    "def build_questions_by_segment(questions, segment, segment_name):\n",
    "    questions_by_segment = []\n",
    "\n",
    "    for question, question_data in questions.items():\n",
    "        questions_by_segment.append(f\"## {question}\")\n",
    "        questions_by_segment.append(\n",
    "            build_question_by_segment(question_data, segment, segment_name)\n",
    "        )\n",
    "\n",
    "    return questions_by_segment"
   ]
  },
  {
   "cell_type": "code",
   "execution_count": 5,
   "metadata": {},
   "outputs": [],
   "source": [
    "def shuffled_range(n):\n",
    "    return random.sample(range(n), k=n)\n",
    "\n",
    "\n",
    "def build_banner(banner_data):\n",
    "    words_and_counts = banner_data.melt()[\"value\"].dropna().value_counts()\n",
    "\n",
    "    words_and_counts = pd.DataFrame(words_and_counts).rename_axis().reset_index()\n",
    "    words_and_counts.columns = [\"word\", \"count\"]\n",
    "\n",
    "    n = len(words_and_counts)\n",
    "    x = shuffled_range(n)\n",
    "    y = shuffled_range(n)\n",
    "\n",
    "    word_cloud_data = words_and_counts.assign(x=x, y=y)\n",
    "\n",
    "    base = (\n",
    "        alt.Chart(word_cloud_data)\n",
    "        .encode(x=alt.X(\"x:O\", axis=None), y=alt.Y(\"y:O\", axis=None))\n",
    "        .configure(background=\"white\")\n",
    "        .configure(background=\"#eef2ff\")\n",
    "        .properties(width=\"container\", height=100)\n",
    "    )\n",
    "\n",
    "    word_cloud = (\n",
    "        base.mark_text(baseline=\"middle\")\n",
    "        .encode(\n",
    "            text=\"word:N\",\n",
    "            color=alt.Color(\"count:Q\", scale=alt.Scale(scheme=\"purpleblue\")),\n",
    "            size=alt.Size(\"count:Q\", legend=None, scale=alt.Scale(range=[20, 50])),\n",
    "        )\n",
    "        .configure_view(strokeWidth=0)\n",
    "    )\n",
    "\n",
    "    return dp.Plot(word_cloud)"
   ]
  },
  {
   "cell_type": "markdown",
   "metadata": {},
   "source": [
    "## Load and wrangle data"
   ]
  },
  {
   "cell_type": "markdown",
   "metadata": {},
   "source": [
    "Load dataset"
   ]
  },
  {
   "cell_type": "code",
   "execution_count": 6,
   "metadata": {},
   "outputs": [
    {
     "data": {
      "text/html": [
       "<div>\n",
       "<style scoped>\n",
       "    .dataframe tbody tr th:only-of-type {\n",
       "        vertical-align: middle;\n",
       "    }\n",
       "\n",
       "    .dataframe tbody tr th {\n",
       "        vertical-align: top;\n",
       "    }\n",
       "\n",
       "    .dataframe thead th {\n",
       "        text-align: right;\n",
       "    }\n",
       "</style>\n",
       "<table border=\"1\" class=\"dataframe\">\n",
       "  <thead>\n",
       "    <tr style=\"text-align: right;\">\n",
       "      <th></th>\n",
       "      <th>Time from Start to Finish (seconds)</th>\n",
       "      <th>Q1</th>\n",
       "      <th>Q2</th>\n",
       "      <th>Q3</th>\n",
       "      <th>Q4</th>\n",
       "      <th>Q5</th>\n",
       "      <th>Q6</th>\n",
       "      <th>Q7_Part_1</th>\n",
       "      <th>Q7_Part_2</th>\n",
       "      <th>Q7_Part_3</th>\n",
       "      <th>...</th>\n",
       "      <th>Q38_B_Part_3</th>\n",
       "      <th>Q38_B_Part_4</th>\n",
       "      <th>Q38_B_Part_5</th>\n",
       "      <th>Q38_B_Part_6</th>\n",
       "      <th>Q38_B_Part_7</th>\n",
       "      <th>Q38_B_Part_8</th>\n",
       "      <th>Q38_B_Part_9</th>\n",
       "      <th>Q38_B_Part_10</th>\n",
       "      <th>Q38_B_Part_11</th>\n",
       "      <th>Q38_B_OTHER</th>\n",
       "    </tr>\n",
       "  </thead>\n",
       "  <tbody>\n",
       "    <tr>\n",
       "      <th>0</th>\n",
       "      <td>Duration (in seconds)</td>\n",
       "      <td>What is your age (# years)?</td>\n",
       "      <td>What is your gender? - Selected Choice</td>\n",
       "      <td>In which country do you currently reside?</td>\n",
       "      <td>What is the highest level of formal education ...</td>\n",
       "      <td>Select the title most similar to your current ...</td>\n",
       "      <td>For how many years have you been writing code ...</td>\n",
       "      <td>What programming languages do you use on a reg...</td>\n",
       "      <td>What programming languages do you use on a reg...</td>\n",
       "      <td>What programming languages do you use on a reg...</td>\n",
       "      <td>...</td>\n",
       "      <td>In the next 2 years, do you hope to become mor...</td>\n",
       "      <td>In the next 2 years, do you hope to become mor...</td>\n",
       "      <td>In the next 2 years, do you hope to become mor...</td>\n",
       "      <td>In the next 2 years, do you hope to become mor...</td>\n",
       "      <td>In the next 2 years, do you hope to become mor...</td>\n",
       "      <td>In the next 2 years, do you hope to become mor...</td>\n",
       "      <td>In the next 2 years, do you hope to become mor...</td>\n",
       "      <td>In the next 2 years, do you hope to become mor...</td>\n",
       "      <td>In the next 2 years, do you hope to become mor...</td>\n",
       "      <td>In the next 2 years, do you hope to become mor...</td>\n",
       "    </tr>\n",
       "    <tr>\n",
       "      <th>1</th>\n",
       "      <td>910</td>\n",
       "      <td>50-54</td>\n",
       "      <td>Man</td>\n",
       "      <td>India</td>\n",
       "      <td>Bachelor’s degree</td>\n",
       "      <td>Other</td>\n",
       "      <td>5-10 years</td>\n",
       "      <td>Python</td>\n",
       "      <td>R</td>\n",
       "      <td>NaN</td>\n",
       "      <td>...</td>\n",
       "      <td>NaN</td>\n",
       "      <td>NaN</td>\n",
       "      <td>NaN</td>\n",
       "      <td>NaN</td>\n",
       "      <td>NaN</td>\n",
       "      <td>NaN</td>\n",
       "      <td>NaN</td>\n",
       "      <td>NaN</td>\n",
       "      <td>NaN</td>\n",
       "      <td>NaN</td>\n",
       "    </tr>\n",
       "  </tbody>\n",
       "</table>\n",
       "<p>2 rows × 369 columns</p>\n",
       "</div>"
      ],
      "text/plain": [
       "  Time from Start to Finish (seconds)                           Q1  \\\n",
       "0               Duration (in seconds)  What is your age (# years)?   \n",
       "1                                 910                        50-54   \n",
       "\n",
       "                                       Q2  \\\n",
       "0  What is your gender? - Selected Choice   \n",
       "1                                     Man   \n",
       "\n",
       "                                          Q3  \\\n",
       "0  In which country do you currently reside?   \n",
       "1                                      India   \n",
       "\n",
       "                                                  Q4  \\\n",
       "0  What is the highest level of formal education ...   \n",
       "1                                  Bachelor’s degree   \n",
       "\n",
       "                                                  Q5  \\\n",
       "0  Select the title most similar to your current ...   \n",
       "1                                              Other   \n",
       "\n",
       "                                                  Q6  \\\n",
       "0  For how many years have you been writing code ...   \n",
       "1                                         5-10 years   \n",
       "\n",
       "                                           Q7_Part_1  \\\n",
       "0  What programming languages do you use on a reg...   \n",
       "1                                             Python   \n",
       "\n",
       "                                           Q7_Part_2  \\\n",
       "0  What programming languages do you use on a reg...   \n",
       "1                                                  R   \n",
       "\n",
       "                                           Q7_Part_3  ...  \\\n",
       "0  What programming languages do you use on a reg...  ...   \n",
       "1                                                NaN  ...   \n",
       "\n",
       "                                        Q38_B_Part_3  \\\n",
       "0  In the next 2 years, do you hope to become mor...   \n",
       "1                                                NaN   \n",
       "\n",
       "                                        Q38_B_Part_4  \\\n",
       "0  In the next 2 years, do you hope to become mor...   \n",
       "1                                                NaN   \n",
       "\n",
       "                                        Q38_B_Part_5  \\\n",
       "0  In the next 2 years, do you hope to become mor...   \n",
       "1                                                NaN   \n",
       "\n",
       "                                        Q38_B_Part_6  \\\n",
       "0  In the next 2 years, do you hope to become mor...   \n",
       "1                                                NaN   \n",
       "\n",
       "                                        Q38_B_Part_7  \\\n",
       "0  In the next 2 years, do you hope to become mor...   \n",
       "1                                                NaN   \n",
       "\n",
       "                                        Q38_B_Part_8  \\\n",
       "0  In the next 2 years, do you hope to become mor...   \n",
       "1                                                NaN   \n",
       "\n",
       "                                        Q38_B_Part_9  \\\n",
       "0  In the next 2 years, do you hope to become mor...   \n",
       "1                                                NaN   \n",
       "\n",
       "                                       Q38_B_Part_10  \\\n",
       "0  In the next 2 years, do you hope to become mor...   \n",
       "1                                                NaN   \n",
       "\n",
       "                                       Q38_B_Part_11  \\\n",
       "0  In the next 2 years, do you hope to become mor...   \n",
       "1                                                NaN   \n",
       "\n",
       "                                         Q38_B_OTHER  \n",
       "0  In the next 2 years, do you hope to become mor...  \n",
       "1                                                NaN  \n",
       "\n",
       "[2 rows x 369 columns]"
      ]
     },
     "execution_count": 6,
     "metadata": {},
     "output_type": "execute_result"
    }
   ],
   "source": [
    "data = pd.read_csv(\"assets/kaggle_survey_2021_responses.csv\", low_memory=False)\n",
    "data.head(2)"
   ]
  },
  {
   "cell_type": "markdown",
   "metadata": {},
   "source": [
    "Trim whitespace on strings"
   ]
  },
  {
   "cell_type": "code",
   "execution_count": 7,
   "metadata": {},
   "outputs": [],
   "source": [
    "data = data.applymap(lambda x: x.strip() if isinstance(x, str) else x)"
   ]
  },
  {
   "cell_type": "markdown",
   "metadata": {},
   "source": [
    "Drop descriptive first row"
   ]
  },
  {
   "cell_type": "code",
   "execution_count": 8,
   "metadata": {},
   "outputs": [],
   "source": [
    "data = data.iloc[1:]"
   ]
  },
  {
   "cell_type": "markdown",
   "metadata": {},
   "source": [
    "Get programming languages for our banner"
   ]
  },
  {
   "cell_type": "code",
   "execution_count": 9,
   "metadata": {},
   "outputs": [],
   "source": [
    "banner_data = data.filter(like=\"Q7_Part\")"
   ]
  },
  {
   "cell_type": "markdown",
   "metadata": {},
   "source": [
    "Filter to those who use Python (Q7_Part_1)"
   ]
  },
  {
   "cell_type": "code",
   "execution_count": 10,
   "metadata": {},
   "outputs": [],
   "source": [
    "data = data[data[\"Q7_Part_1\"] == \"Python\"]"
   ]
  },
  {
   "cell_type": "markdown",
   "metadata": {},
   "source": [
    "Merge Jupyter Notebook and Lab, update names"
   ]
  },
  {
   "cell_type": "code",
   "execution_count": 11,
   "metadata": {},
   "outputs": [],
   "source": [
    "data[\"Q9_Part_1\"].loc[~data[\"Q9_Part_1\"].isnull()] = \"Jupyter NB/Lab\"\n",
    "data[\"Q9_Part_1\"].loc[~data[\"Q9_Part_11\"].isnull()] = \"Jupyter NB/Lab\"\n",
    "data[\"Q9_Part_4\"].loc[~data[\"Q9_Part_4\"].isnull()] = \"VSCode\""
   ]
  },
  {
   "cell_type": "markdown",
   "metadata": {},
   "source": [
    "Drop non-Python and redundant IDE columns"
   ]
  },
  {
   "cell_type": "code",
   "execution_count": 12,
   "metadata": {},
   "outputs": [],
   "source": [
    "data = data.drop(\n",
    "    labels=[\"Q9_Part_2\", \"Q9_Part_3\", \"Q9_Part_10\", \"Q9_Part_11\", \"Q9_Part_12\"], axis=1\n",
    ")\n",
    "data = data.drop(labels=[\"Q10_Part_15\", \"Q10_Part_16\"], axis=1)"
   ]
  },
  {
   "cell_type": "markdown",
   "metadata": {},
   "source": [
    "Drop those that have not indicated employment"
   ]
  },
  {
   "cell_type": "code",
   "execution_count": 13,
   "metadata": {},
   "outputs": [],
   "source": [
    "data = data[data[\"Q5\"] != \"Student\"]\n",
    "data = data[data[\"Q5\"] != \"Currently not employed\"]"
   ]
  },
  {
   "cell_type": "markdown",
   "metadata": {},
   "source": [
    "Finally, build segments and questions dicts"
   ]
  },
  {
   "cell_type": "code",
   "execution_count": 14,
   "metadata": {},
   "outputs": [],
   "source": [
    "segments = {\n",
    "    \"Roles\": data[\"Q5\"],\n",
    "    \"Industry\": data[\"Q20\"],\n",
    "    \"DS Team Size\": data[\"Q22\"],\n",
    "    \"Primary Tool\": data[\"Q41\"],\n",
    "}\n",
    "\n",
    "\n",
    "questions = {\n",
    "    \"What IDEs are used?\": data.filter(like=\"Q9_Part\"),\n",
    "    \"What hosted IDEs are used?\": data.filter(like=\"10_Part\"),\n",
    "    \"What BI tools are used?\": data.filter(like=\"Q34_A_Part\"),\n",
    "    \"What BI tools are interesting?\": data.filter(like=\"Q34_B_Part\"),\n",
    "    \"What visualization libraries are used?\": data.filter(like=\"Q14_Part\"),\n",
    "    \"What part of the pipeline?\": data.filter(like=\"Q24_Part\"),\n",
    "    \"Where are analyses shared?\": data.filter(like=\"Q39_Part\"),\n",
    "}"
   ]
  },
  {
   "cell_type": "markdown",
   "metadata": {},
   "source": [
    "## Build header and overview blocks"
   ]
  },
  {
   "cell_type": "code",
   "execution_count": 15,
   "metadata": {},
   "outputs": [],
   "source": [
    "banner_block = build_banner(banner_data)\n",
    "\n",
    "stats_group = dp.Group(\n",
    "    dp.BigNumber(heading=\"Participants\", value=len(data)),\n",
    "    dp.BigNumber(heading=\"Segments\", value=len(segments)),\n",
    "    dp.BigNumber(heading=\"Questions\", value=len(questions)),\n",
    "    columns=3,\n",
    ")"
   ]
  },
  {
   "cell_type": "markdown",
   "metadata": {},
   "source": [
    "## Build report"
   ]
  },
  {
   "cell_type": "code",
   "execution_count": null,
   "metadata": {},
   "outputs": [],
   "source": [
    "segment_pages = {}\n",
    "\n",
    "for segment_name, segment in segments.items():\n",
    "    segment_pages[segment_name] = dp.Group(\n",
    "        f\"## Spread of {segment_name}\",\n",
    "        build_segment_distribution(segment, segment_name),\n",
    "        *build_questions_by_segment(questions, segment, segment_name),\n",
    "        label=segment_name,\n",
    "    )\n",
    "\n",
    "report = dp.Report(\n",
    "    banner_block,\n",
    "    \"# Kaggle 2021 Survey - Python Edition\",\n",
    "    stats_group,\n",
    "    dp.Select(\n",
    "        blocks=segment_pages.values(),\n",
    "        type=dp.SelectType.TABS,\n",
    "    ),\n",
    ")\n",
    "\n",
    "report.save(\"template.html\", open=True)"
   ]
  }
 ],
 "metadata": {
  "kernelspec": {
   "display_name": "Python 3 (ipykernel)",
   "language": "python",
   "name": "python3"
  },
  "language_info": {
   "codemirror_mode": {
    "name": "ipython",
    "version": 3
   },
   "file_extension": ".py",
   "mimetype": "text/x-python",
   "name": "python",
   "nbconvert_exporter": "python",
   "pygments_lexer": "ipython3",
   "version": "3.10.5"
  },
  "vscode": {
   "interpreter": {
    "hash": "a0a5145e6c304e2a9afaf5b930a2955b950bd4b81fe94f7c42930f43f42762eb"
   }
  }
 },
 "nbformat": 4,
 "nbformat_minor": 4
}
